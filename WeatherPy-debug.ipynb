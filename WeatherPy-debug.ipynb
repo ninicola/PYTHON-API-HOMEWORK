{
 "cells": [
  {
   "cell_type": "markdown",
   "metadata": {},
   "source": [
    "# Unit 6 | Assignment - What's the Weather Like?\n",
    "\n",
    "\n",
    "Background\n",
    "\n",
    "Whether financial, political, or social -- data's true power lies in its ability to answer questions definitively. So let's take what you've learned about Python requests, APIs, and JSON traversals to answer a fundamental question: \"What's the weather like as we approach the equator?\"\n",
    "\n",
    "Now, we know what you may be thinking: \"Duh. It gets hotter...\"\n",
    "\n",
    "But, if pressed, how would you prove it?\n",
    "\n",
    "\n",
    "\n",
    "\n",
    "WeatherPy\n",
    "\n",
    "In this example, you'll be creating a Python script to visualize the weather of 500+ cities across the world of varying distance from the equator. To accomplish this, you'll be utilizing a simple Python library, the OpenWeatherMap API, and a little common sense to create a representative model of weather across world cities.\n",
    "\n",
    "Your objective is to build a series of scatter plots to showcase the following relationships:\n",
    "\n",
    "\n",
    "Temperature (F) vs. Latitude\n",
    "Humidity (%) vs. Latitude\n",
    "Cloudiness (%) vs. Latitude\n",
    "Wind Speed (mph) vs. Latitude\n",
    "\n",
    "\n",
    "Your final notebook must:\n",
    "\n",
    "\n",
    "Randomly select at least 500 unique (non-repeat) cities based on latitude and longitude.\n",
    "Perform a weather check on each of the cities using a series of successive API calls.\n",
    "Include a print log of each city as it's being processed with the city number and city name.\n",
    "Save both a CSV of all data retrieved and png images for each scatter plot.\n",
    "\n",
    "\n",
    "As final considerations:\n",
    "\n",
    "\n",
    "You must complete your analysis using a Jupyter notebook.\n",
    "You must use the Matplotlib or Pandas plotting libraries.\n",
    "You must include a written description of three observable trends based on the data.\n",
    "You must use proper labeling of your plots, including aspects like: Plot Titles (with date of analysis) and Axes Labels.\n",
    "See Example Solution for a reference on expected format.\n",
    "\n",
    "\n",
    "\n",
    "Hints and Considerations\n",
    "\n",
    "\n",
    "You may want to start this assignment by refreshing yourself on the geographic coordinate system.\n",
    "Next, spend the requisite time necessary to study the OpenWeatherMap API. Based on your initial study, you should be able to answer  basic questions about the API: Where do you request the API key? Which Weather API in particular will you need? What URL endpoints does it expect? What JSON structure does it respond with? Before you write a line of code, you should be aiming to have a crystal clear understanding of your intended outcome.\n",
    "Though we've never worked with the citipy Python library, push yourself to decipher how it works, and why it might be relevant. Before you try to incorporate the library into your analysis, start by creating simple test cases outside your main script to confirm that you are using it correctly. Too often, when introduced to a new library, students get bogged down by the most minor of errors -- spending hours investigating their entire code -- when, in fact, a simple and focused test would have shown their basic utilization of the library was wrong from the start. Don't let this be you!\n",
    "Part of our expectation in this challenge is that you will use critical thinking skills to understand how and why we're recommending the tools we are. What is Citipy for? Why would you use it in conjunction with the OpenWeatherMap API? How would you do so?\n",
    "In building your script, pay attention to the cities you are using in your query pool. Are you getting coverage of the full gamut of latitudes and longitudes? Or are you simply choosing 500 cities concentrated in one region of the world? Even if you were a geographic genius, simply rattling 500 cities based on your human selection would create a biased dataset. Be thinking of how you should counter this. (Hint: Consider the full range of latitudes).\n",
    "Lastly, remember -- this is a challenging activity. Push yourself! If you complete this task, then you can safely say that you've gained a strong mastery of the core foundations of data analytics and it will only go better from here. Good luck!\n",
    "\n",
    "\n",
    "\n",
    "Copyright\n",
    "\n",
    "Data Boot Camp © 2018. All Rights Reserved."
   ]
  },
  {
   "cell_type": "code",
   "execution_count": 1,
   "metadata": {},
   "outputs": [
    {
     "data": {
      "text/plain": [
       "'25bc90a1196e6f153eece0bc0b0fc9eb'"
      ]
     },
     "execution_count": 1,
     "metadata": {},
     "output_type": "execute_result"
    }
   ],
   "source": [
    "import pandas as pd\n",
    "from citipy import citipy\n",
    "import numpy as np\n",
    "import pandas as pd\n",
    "import requests\n",
    "import json\n",
    "import seaborn as sns\n",
    "import matplotlib.pyplot as plt\n",
    "from config import api_keys\n",
    "%matplotlib inline\n",
    "api_keys"
   ]
  },
  {
   "cell_type": "code",
   "execution_count": 2,
   "metadata": {},
   "outputs": [],
   "source": [
    "#generate random list for latitudes and longitudes \n",
    "latitude=[]\n",
    "longitude=[]\n",
    "for each_lat in np.random.randint(-90,90,2000):\n",
    "    latitude.append(each_lat)\n",
    "for each_lon in np.random.randint(-180,180,2000):\n",
    "    longitude.append(each_lon)\n"
   ]
  },
  {
   "cell_type": "code",
   "execution_count": 3,
   "metadata": {},
   "outputs": [],
   "source": [
    "#Create and variable called latitude_and_Longitude and store all random latitudes and longitudes generated\n",
    "latitude_and_Longitude=tuple(zip(latitude,longitude))\n",
    "#latitude_and_Longitude"
   ]
  },
  {
   "cell_type": "code",
   "execution_count": 4,
   "metadata": {},
   "outputs": [],
   "source": [
    "#use citipy library to find the nearest city for all latitudes and longitudes\n",
    "cities=[]\n",
    "countries=[]\n",
    "for lat,lon in latitude_and_Longitude:\n",
    "    city=citipy.nearest_city(lat,lon)\n",
    "    cities.append(city.city_name)\n",
    "    countries.append(city.country_code)\n",
    "#unit_city=set(cities)\n",
    "#unit_city"
   ]
  },
  {
   "cell_type": "code",
   "execution_count": 5,
   "metadata": {},
   "outputs": [
    {
     "name": "stdout",
     "output_type": "stream",
     "text": [
      "753\n",
      "The above script has generated 753 different cities using random numbers.\n"
     ]
    }
   ],
   "source": [
    "#Print out how many the different cities were generated\n",
    "print(len(set(cities)))\n",
    "print('The above script has generated {} different cities using random numbers.'.format(len(set(cities))))\n",
    "#print('The above script has generated {} different cities using random numbers.'.format(len(set(cities))))"
   ]
  },
  {
   "cell_type": "code",
   "execution_count": 6,
   "metadata": {},
   "outputs": [
    {
     "data": {
      "text/html": [
       "<div>\n",
       "<style scoped>\n",
       "    .dataframe tbody tr th:only-of-type {\n",
       "        vertical-align: middle;\n",
       "    }\n",
       "\n",
       "    .dataframe tbody tr th {\n",
       "        vertical-align: top;\n",
       "    }\n",
       "\n",
       "    .dataframe thead th {\n",
       "        text-align: right;\n",
       "    }\n",
       "</style>\n",
       "<table border=\"1\" class=\"dataframe\">\n",
       "  <thead>\n",
       "    <tr style=\"text-align: right;\">\n",
       "      <th></th>\n",
       "      <th>City</th>\n",
       "      <th>Country</th>\n",
       "      <th>Temperature (F)</th>\n",
       "      <th>Humidity (%)</th>\n",
       "      <th>Cloudiness (%)</th>\n",
       "      <th>Wind Speed (mph)</th>\n",
       "    </tr>\n",
       "  </thead>\n",
       "  <tbody>\n",
       "    <tr>\n",
       "      <th>0</th>\n",
       "      <td>kieta</td>\n",
       "      <td>pg</td>\n",
       "      <td></td>\n",
       "      <td></td>\n",
       "      <td></td>\n",
       "      <td></td>\n",
       "    </tr>\n",
       "    <tr>\n",
       "      <th>1</th>\n",
       "      <td>attawapiskat</td>\n",
       "      <td>ca</td>\n",
       "      <td></td>\n",
       "      <td></td>\n",
       "      <td></td>\n",
       "      <td></td>\n",
       "    </tr>\n",
       "    <tr>\n",
       "      <th>2</th>\n",
       "      <td>ushuaia</td>\n",
       "      <td>ar</td>\n",
       "      <td></td>\n",
       "      <td></td>\n",
       "      <td></td>\n",
       "      <td></td>\n",
       "    </tr>\n",
       "    <tr>\n",
       "      <th>3</th>\n",
       "      <td>punta arenas</td>\n",
       "      <td>cl</td>\n",
       "      <td></td>\n",
       "      <td></td>\n",
       "      <td></td>\n",
       "      <td></td>\n",
       "    </tr>\n",
       "    <tr>\n",
       "      <th>4</th>\n",
       "      <td>haldia</td>\n",
       "      <td>in</td>\n",
       "      <td></td>\n",
       "      <td></td>\n",
       "      <td></td>\n",
       "      <td></td>\n",
       "    </tr>\n",
       "  </tbody>\n",
       "</table>\n",
       "</div>"
      ],
      "text/plain": [
       "           City Country Temperature (F) Humidity (%) Cloudiness (%)  \\\n",
       "0         kieta      pg                                               \n",
       "1  attawapiskat      ca                                               \n",
       "2       ushuaia      ar                                               \n",
       "3  punta arenas      cl                                               \n",
       "4        haldia      in                                               \n",
       "\n",
       "  Wind Speed (mph)  \n",
       "0                   \n",
       "1                   \n",
       "2                   \n",
       "3                   \n",
       "4                   "
      ]
     },
     "execution_count": 6,
     "metadata": {},
     "output_type": "execute_result"
    }
   ],
   "source": [
    "#create a dataframe to store all the cities and countries generated with citipy\n",
    "\n",
    "city_dic={\"City\":cities,\n",
    "          \"Country\":countries}\n",
    "df_countries=pd.DataFrame(city_dic)\n",
    "#add additional blank columns to store information from openweathermap api\n",
    "\n",
    "df_countries[\"Temperature (F)\"]=\"\"\n",
    "df_countries[\"Humidity (%)\"]=\"\"\n",
    "df_countries[\"Cloudiness (%)\"]=\"\"\n",
    "df_countries[\"Wind Speed (mph)\"]=\"\"\n",
    "df_countries.head()"
   ]
  },
  {
   "cell_type": "code",
   "execution_count": 7,
   "metadata": {},
   "outputs": [
    {
     "data": {
      "text/html": [
       "<div>\n",
       "<style scoped>\n",
       "    .dataframe tbody tr th:only-of-type {\n",
       "        vertical-align: middle;\n",
       "    }\n",
       "\n",
       "    .dataframe tbody tr th {\n",
       "        vertical-align: top;\n",
       "    }\n",
       "\n",
       "    .dataframe thead th {\n",
       "        text-align: right;\n",
       "    }\n",
       "</style>\n",
       "<table border=\"1\" class=\"dataframe\">\n",
       "  <thead>\n",
       "    <tr style=\"text-align: right;\">\n",
       "      <th></th>\n",
       "      <th>City</th>\n",
       "      <th>Country</th>\n",
       "      <th>Temperature (F)</th>\n",
       "      <th>Humidity (%)</th>\n",
       "      <th>Cloudiness (%)</th>\n",
       "      <th>Wind Speed (mph)</th>\n",
       "    </tr>\n",
       "  </thead>\n",
       "  <tbody>\n",
       "    <tr>\n",
       "      <th>0</th>\n",
       "      <td>kieta</td>\n",
       "      <td>pg</td>\n",
       "      <td></td>\n",
       "      <td></td>\n",
       "      <td></td>\n",
       "      <td></td>\n",
       "    </tr>\n",
       "    <tr>\n",
       "      <th>1</th>\n",
       "      <td>attawapiskat</td>\n",
       "      <td>ca</td>\n",
       "      <td></td>\n",
       "      <td></td>\n",
       "      <td></td>\n",
       "      <td></td>\n",
       "    </tr>\n",
       "    <tr>\n",
       "      <th>2</th>\n",
       "      <td>ushuaia</td>\n",
       "      <td>ar</td>\n",
       "      <td></td>\n",
       "      <td></td>\n",
       "      <td></td>\n",
       "      <td></td>\n",
       "    </tr>\n",
       "    <tr>\n",
       "      <th>3</th>\n",
       "      <td>punta arenas</td>\n",
       "      <td>cl</td>\n",
       "      <td></td>\n",
       "      <td></td>\n",
       "      <td></td>\n",
       "      <td></td>\n",
       "    </tr>\n",
       "    <tr>\n",
       "      <th>4</th>\n",
       "      <td>haldia</td>\n",
       "      <td>in</td>\n",
       "      <td></td>\n",
       "      <td></td>\n",
       "      <td></td>\n",
       "      <td></td>\n",
       "    </tr>\n",
       "  </tbody>\n",
       "</table>\n",
       "</div>"
      ],
      "text/plain": [
       "           City Country Temperature (F) Humidity (%) Cloudiness (%)  \\\n",
       "0         kieta      pg                                               \n",
       "1  attawapiskat      ca                                               \n",
       "2       ushuaia      ar                                               \n",
       "3  punta arenas      cl                                               \n",
       "4        haldia      in                                               \n",
       "\n",
       "  Wind Speed (mph)  \n",
       "0                   \n",
       "1                   \n",
       "2                   \n",
       "3                   \n",
       "4                   "
      ]
     },
     "execution_count": 7,
     "metadata": {},
     "output_type": "execute_result"
    }
   ],
   "source": [
    "#drop all duplicates in column Cities.\n",
    "#df_countries.shape\n",
    "df_countries=df_countries.drop_duplicates(subset=['City'],keep='first')\n",
    "df_countries_1=df_countries.head(5)\n",
    "df_countries_1.head()"
   ]
  },
  {
   "cell_type": "code",
   "execution_count": 8,
   "metadata": {},
   "outputs": [
    {
     "name": "stdout",
     "output_type": "stream",
     "text": [
      "{'cod': 401,\n",
      " 'message': 'Invalid API key. Please see '\n",
      "            'http://openweathermap.org/faq#error401 for more info.'}\n"
     ]
    }
   ],
   "source": [
    "from pprint import pprint\n",
    "city_name=\"London\"\n",
    "Country_id=\"uk\"\n",
    "api_url = \"http://api.openweathermap.org/data/2.5/forecast\" \\\n",
    "          \"?q={},{}&units=metric&mode=json&appid={}c\".format(city_name,Country_id,api_keys)\n",
    "response=requests.get(api_url).json()\n",
    "pprint(response)\n",
    "#print(api_url)\n",
    "#df_countries[\"Temperature (F)\"].append(response['list'][3])"
   ]
  },
  {
   "cell_type": "code",
   "execution_count": null,
   "metadata": {},
   "outputs": [],
   "source": [
    "#loop through all rows and fill in values for blank columns in dataframe\n",
    "for index,row in df_countries_1.iterrows():\n",
    "    city_name=row['City']\n",
    "    Country_id=row['Country']\n",
    "\n",
    "    api_url = \"http://api.openweathermap.org/data/2.5/forecast\" \\\n",
    "          \"?q={},{}&units=IMPERIAL&mode=json&APPID={}\".format(city_name,Country_id,api_keys)\n",
    "    response=requests.get(api_url).json()\n",
    "    print(api_url)\n",
    "    try:\n",
    "        df_countries_1.set_value(index,'Latitude',response['city']['coord']['lat'])\n",
    "        df_countries_1.set_value(index,'Longitude',response['city']['coord']['lon'])\n",
    "        df_countries_1.set_value(index,'Temperature (F)',response['list'][0]['main']['temp'])\n",
    "        df_countries_1.set_value(index,'Humidity (%)',response['list'][0]['main']['humidity'])\n",
    "        df_countries_1.set_value(index,'Cloudiness (%)',response['list'][0]['clouds']['all'])\n",
    "        df_countries_1.set_value(index,'Wind Speed (mph)',response['list'][0]['wind']['speed'])\n",
    "        \n",
    "    except KeyError:\n",
    "        df_countries_1.set_value(index,'Latitude',np.nan)\n",
    "        df_countries_1.set_value(index,'Longitude',np.nan)\n",
    "        df_countries_1.set_value(index,'Temperature (F)',np.nan)\n",
    "        df_countries_1.set_value(index,'Humidity (%)',np.nan)\n",
    "        df_countries_1.set_value(index,'Cloudiness (%)',np.nan)\n",
    "        df_countries_1.set_value(index,'Wind Speed (mph)',np.nan)\n",
    "        print('Weather information is missing just..skip')"
   ]
  },
  {
   "cell_type": "code",
   "execution_count": null,
   "metadata": {},
   "outputs": [],
   "source": [
    "from pprint import pprint\n",
    "city_name=\"London\"\n",
    "Country_id=\"uk\"\n",
    "api_url = \"http://api.openweathermap.org/data/2.5/forecast\" \\\n",
    "          \"?q={},{}&units=metric&mode=json&APPID={}c\".format(city_name,Country_id,api_keys)\n",
    "response=requests.get(api_url).json()\n",
    "pprint(response)\n",
    "\n",
    "#df_countries[\"Temperature (F)\"].append(response['list'][3])"
   ]
  },
  {
   "cell_type": "code",
   "execution_count": null,
   "metadata": {},
   "outputs": [],
   "source": [
    "\n",
    "\n",
    "\n",
    "df_countries.set_value(index,'Latitude',response['city']['coord']['lat'])\n",
    "\n"
   ]
  },
  {
   "cell_type": "code",
   "execution_count": null,
   "metadata": {},
   "outputs": [],
   "source": [
    "#loop through all rows and fill in values for blank columns in dataframe\n",
    "for index,row in df_countries.iterrows():\n",
    "    city_name=row['City']\n",
    "    Country_id=row['Country']\n",
    "\n",
    "    api_url = \"http://api.openweathermap.org/data/2.5/forecast\" \\\n",
    "          \"?q={},{}&units=metric&mode=json&APPID={}\".format(city_name,Country_id,api_keys)\n",
    "    response=requests.get(api_url).json()\n",
    "    print(api_url)\n",
    "   \n",
    "        df_countries[\"Temperature (F)\"].append(response[])"
   ]
  },
  {
   "cell_type": "code",
   "execution_count": null,
   "metadata": {},
   "outputs": [],
   "source": [
    "#change all data recieved from openweathermap api to numerical data\n"
   ]
  },
  {
   "cell_type": "code",
   "execution_count": null,
   "metadata": {},
   "outputs": [],
   "source": [
    "#display dataframe df_countries after openweathermap api calls \n"
   ]
  },
  {
   "cell_type": "code",
   "execution_count": null,
   "metadata": {},
   "outputs": [],
   "source": []
  },
  {
   "cell_type": "code",
   "execution_count": null,
   "metadata": {},
   "outputs": [],
   "source": [
    "#print for the following cities associated with this dataframe ,{} cities did not contain weather information. These cities\n",
    "#\\t will be dropped from this dataframe.'.format(missing_weather_info)\n"
   ]
  },
  {
   "cell_type": "code",
   "execution_count": null,
   "metadata": {},
   "outputs": [],
   "source": [
    "#save out put file into csv file\n",
    "df_countries = df_countries.dropna()\n",
    "df_countries.to_csv(path_or_buf='df_countries.csv')\n",
    "df_countries"
   ]
  },
  {
   "cell_type": "code",
   "execution_count": null,
   "metadata": {},
   "outputs": [],
   "source": [
    "df_countries_table = df_countries.copy()\n",
    "df_countries_table['Latitude'] = pd.qcut(df_countries['Latitude'],11,precision=0)"
   ]
  },
  {
   "cell_type": "code",
   "execution_count": null,
   "metadata": {},
   "outputs": [],
   "source": [
    "cm = sns.light_palette('pink',as_cmap=True)\n",
    "\n",
    "df_countries_table.groupby(['Latitude'])['Temperature (F)'].mean().reset_index().style.background_gradient(cmap=cm)"
   ]
  },
  {
   "cell_type": "code",
   "execution_count": null,
   "metadata": {},
   "outputs": [],
   "source": [
    "#plot the following plots Temperature (F) vs. Lat, Humidity (%) vs. Lat, Cloudiness (%) vs. Lat, and \n",
    "#Wind Speed (mph) vs. Lat\n",
    "\n"
   ]
  },
  {
   "cell_type": "code",
   "execution_count": null,
   "metadata": {},
   "outputs": [],
   "source": []
  },
  {
   "cell_type": "code",
   "execution_count": null,
   "metadata": {},
   "outputs": [],
   "source": []
  },
  {
   "cell_type": "code",
   "execution_count": null,
   "metadata": {},
   "outputs": [],
   "source": []
  },
  {
   "cell_type": "code",
   "execution_count": null,
   "metadata": {},
   "outputs": [],
   "source": []
  },
  {
   "cell_type": "code",
   "execution_count": null,
   "metadata": {},
   "outputs": [],
   "source": []
  },
  {
   "cell_type": "code",
   "execution_count": null,
   "metadata": {},
   "outputs": [],
   "source": []
  },
  {
   "cell_type": "code",
   "execution_count": null,
   "metadata": {},
   "outputs": [],
   "source": []
  },
  {
   "cell_type": "code",
   "execution_count": null,
   "metadata": {},
   "outputs": [],
   "source": []
  },
  {
   "cell_type": "code",
   "execution_count": null,
   "metadata": {},
   "outputs": [],
   "source": []
  }
 ],
 "metadata": {
  "kernelspec": {
   "display_name": "Python 3",
   "language": "python",
   "name": "python3"
  },
  "language_info": {
   "codemirror_mode": {
    "name": "ipython",
    "version": 3
   },
   "file_extension": ".py",
   "mimetype": "text/x-python",
   "name": "python",
   "nbconvert_exporter": "python",
   "pygments_lexer": "ipython3",
   "version": "3.6.4"
  }
 },
 "nbformat": 4,
 "nbformat_minor": 2
}
