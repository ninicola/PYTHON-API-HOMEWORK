{
 "cells": [
  {
   "cell_type": "code",
   "execution_count": 2,
   "metadata": {},
   "outputs": [],
   "source": [
    "import numpy as np\n",
    "import pandas as pd"
   ]
  },
  {
   "cell_type": "code",
   "execution_count": 13,
   "metadata": {},
   "outputs": [],
   "source": [
    "series1=pd.Series([1,2],index=['a','b'])\n",
    "#series1=pd.Series(dict1)\n",
    "series1.index.name\n"
   ]
  },
  {
   "cell_type": "code",
   "execution_count": 20,
   "metadata": {},
   "outputs": [
    {
     "name": "stdout",
     "output_type": "stream",
     "text": [
      "     a   b\n",
      "0    4   0\n",
      "1   19   1\n",
      "2  -39   2\n",
      "3    4   3\n",
      "4    9   4\n",
      "5  -85   5\n",
      "6   67   6\n",
      "7   20   7\n",
      "8   -7   8\n",
      "9   56   9\n",
      "10  68  10\n",
      "11  -7  11\n",
      "12 -67  12\n",
      "13  55  13\n",
      "14  33  14\n"
     ]
    }
   ],
   "source": [
    "import pandas as pd\n",
    "df = pd.DataFrame({'a':np.random.randint(-90,90,15),'b':range(15)})\n",
    "print(df)\n"
   ]
  },
  {
   "cell_type": "code",
   "execution_count": 24,
   "metadata": {},
   "outputs": [
    {
     "name": "stdout",
     "output_type": "stream",
     "text": [
      "     a   b     c\n",
      "0    6   0  what\n",
      "1   21   1  what\n",
      "2  -37   2  what\n",
      "3    6   3  what\n",
      "4   11   4  what\n",
      "5  -83   5  what\n",
      "6   69   6  what\n",
      "7   22   7  what\n",
      "8   -5   8  what\n",
      "9   58   9  what\n",
      "10  70  10  what\n",
      "11  -5  11  what\n",
      "12 -65  12  what\n",
      "13  57  13  what\n",
      "14  35  14  what\n"
     ]
    }
   ],
   "source": [
    "\n",
    "#for index, row in df.iterrows():\n",
    " #   row.a += 1\n",
    "print(df)\n",
    "\n"
   ]
  },
  {
   "cell_type": "code",
   "execution_count": 23,
   "metadata": {},
   "outputs": [
    {
     "name": "stdout",
     "output_type": "stream",
     "text": [
      "     a   b     c\n",
      "0    6   0  what\n",
      "1   21   1  what\n",
      "2  -37   2  what\n",
      "3    6   3  what\n",
      "4   11   4  what\n",
      "5  -83   5  what\n",
      "6   69   6  what\n",
      "7   22   7  what\n",
      "8   -5   8  what\n",
      "9   58   9  what\n",
      "10  70  10  what\n",
      "11  -5  11  what\n",
      "12 -65  12  what\n",
      "13  57  13  what\n",
      "14  35  14  what\n"
     ]
    }
   ],
   "source": [
    "df['c'] = 'what'\n",
    "\n",
    "for _, row in df.iterrows():\n",
    "    row.b += 1\n",
    "print(df)"
   ]
  },
  {
   "cell_type": "code",
   "execution_count": null,
   "metadata": {},
   "outputs": [],
   "source": []
  }
 ],
 "metadata": {
  "kernelspec": {
   "display_name": "Python 3",
   "language": "python",
   "name": "python3"
  },
  "language_info": {
   "codemirror_mode": {
    "name": "ipython",
    "version": 3
   },
   "file_extension": ".py",
   "mimetype": "text/x-python",
   "name": "python",
   "nbconvert_exporter": "python",
   "pygments_lexer": "ipython3",
   "version": "3.6.4"
  }
 },
 "nbformat": 4,
 "nbformat_minor": 2
}
